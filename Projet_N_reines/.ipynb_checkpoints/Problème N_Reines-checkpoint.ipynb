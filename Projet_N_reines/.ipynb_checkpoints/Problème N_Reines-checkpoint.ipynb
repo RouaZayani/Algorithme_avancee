{
 "cells": [
  {
   "cell_type": "markdown",
   "metadata": {},
   "source": [
    "##### <center> MINISTERE DE L’ENSEIGNEMENT SUPERIEUR  ET DE LA RECHERCHE SCIENTIFIQUE <br/> UNIVERSITE DE SOUSSE </center>\n",
    "\n",
    "### <center>Institut Supérieur d’Informatique et de Technique de Communication </center>           <img src=\"isitcom.png\"> \n",
    "### <center>المعهد العالي للإعلامية و تقنيات الاتصال بحمام سوسة</center>\n",
    "\n",
    "## <center>  Algorithme Avancée</center>\n",
    "\n",
    "# <center> <span style=\"color:blue\"> Probléme de N reines</span></center>\n",
    "<hr>\n",
    "\n",
    "###  <center> Réalisé par : <br>   Zayani Roua 2DNI1 <center> <hr>\n",
    "\n",
    "#### <center> Année Universitaire 2019 – 2020 <center>\n",
    "<hr>"
   ]
  },
  {
   "cell_type": "markdown",
   "metadata": {},
   "source": [
    "## La fonction valide teste si la reine est a la porte d'une autre reine en diagonale et en colonne"
   ]
  },
  {
   "cell_type": "code",
   "execution_count": 1,
   "metadata": {},
   "outputs": [],
   "source": [
    "def valide(i,j):\n",
    "    #meme colonne \n",
    "    for row in range(i):\n",
    "        if (reine[row][j]=='Q'):\n",
    "            return False\n",
    "    x=i\n",
    "    y=j\n",
    "    #diagonale\n",
    "    while (x>=0) and (y>=0):\n",
    "        if (reine[x][y]=='Q'):\n",
    "            return False\n",
    "        x=x-1\n",
    "        y=y-1\n",
    "    \n",
    "    while (i>=0) and (j<n):\n",
    "        if (reine[i][j]=='Q'):\n",
    "            return False\n",
    "        i=i-1\n",
    "        j=j+1\n",
    "    return True"
   ]
  },
  {
   "cell_type": "markdown",
   "metadata": {},
   "source": [
    "## N_reine: c'est une fonction recursive qui place les n reines une par une s'il exite sinon la fonction passe à cherche une autre solution "
   ]
  },
  {
   "cell_type": "code",
   "execution_count": 6,
   "metadata": {},
   "outputs": [],
   "source": [
    "def N_reine(i,n):\n",
    "    a=[]\n",
    "#si on arrive à placer toutes les reines on afficher l'echiquier et \n",
    "#enregistre la solution dans la liste de solutions\n",
    "    if (i==n): \n",
    "        for i in range(n):\n",
    "            for j in range(n):\n",
    "                if (reine[i][j]=='Q'):\n",
    "                    a.append((i,j))  #i c'est la colonne et j c'est la ligne\n",
    "        solution.append(set(a))\n",
    "        #affichier les reines sur l'echiquie\n",
    "        for row in reine:\n",
    "            print(' '.join([str(elem) for elem in row]))\n",
    "        print('___________')\n",
    "#Pour une colonne donne, on teste la validation de ligne pour y sinon en cherche une autre solution\n",
    "    for j in range(n):\n",
    "        if(valide(i,j)):\n",
    "            reine[i][j]='Q'\n",
    "            next_reine=N_reine(i+1,n)\n",
    "            reine[i][j]='-'\n",
    "    l=len(solution)\n",
    "    return solution,('le nombre de solution est',l)"
   ]
  },
  {
   "cell_type": "code",
   "execution_count": 7,
   "metadata": {},
   "outputs": [
    {
     "name": "stdout",
     "output_type": "stream",
     "text": [
      "Donner le nombre des reines :4\n",
      "- Q - -\n",
      "- - - Q\n",
      "Q - - -\n",
      "- - Q -\n",
      "___________\n",
      "- - Q -\n",
      "Q - - -\n",
      "- - - Q\n",
      "- Q - -\n",
      "___________\n"
     ]
    },
    {
     "data": {
      "text/plain": [
       "([{(0, 1), (1, 3), (2, 0), (3, 2)}, {(0, 2), (1, 0), (2, 3), (3, 1)}],\n",
       " ('le nombre de solution est', 2))"
      ]
     },
     "execution_count": 7,
     "metadata": {},
     "output_type": "execute_result"
    }
   ],
   "source": [
    "N=input(\"Donner le nombre des reines :\")\n",
    "n=int(N)\n",
    "solution=[]\n",
    "reine = [['-'] * n for i in range(n)]\n",
    "N_reine(0,n)"
   ]
  },
  {
   "cell_type": "markdown",
   "metadata": {},
   "source": [
    "### Dans l'exemple de N=4, les couple (0,1) signifie la reine est place dans la case de la 1ere colonne, la 2eme ligne "
   ]
  }
 ],
 "metadata": {
  "kernelspec": {
   "display_name": "Python 3",
   "language": "python",
   "name": "python3"
  },
  "language_info": {
   "codemirror_mode": {
    "name": "ipython",
    "version": 3
   },
   "file_extension": ".py",
   "mimetype": "text/x-python",
   "name": "python",
   "nbconvert_exporter": "python",
   "pygments_lexer": "ipython3",
   "version": "3.8.3"
  }
 },
 "nbformat": 4,
 "nbformat_minor": 4
}
