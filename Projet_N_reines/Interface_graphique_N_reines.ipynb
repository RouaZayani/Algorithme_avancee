{
 "cells": [
  {
   "cell_type": "markdown",
   "metadata": {},
   "source": [
    "# Interface graphique"
   ]
  },
  {
   "cell_type": "code",
   "execution_count": 1,
   "metadata": {},
   "outputs": [],
   "source": [
    "def valide(i,j,n,reine):\n",
    "    #meme colune\n",
    "    for row in range(i):\n",
    "        if (reine[row][j]=='Q'):\n",
    "            return False\n",
    "    x=i\n",
    "    y=j\n",
    "    #diagonale\n",
    "    while (x>=0) and (y>=0):\n",
    "        if (reine[x][y]=='Q'):\n",
    "            return False\n",
    "        x=x-1\n",
    "        y=y-1\n",
    "    \n",
    "    while (i>=0) and (j<n):\n",
    "        if (reine[i][j]=='Q'):\n",
    "            return False\n",
    "        i=i-1\n",
    "        j=j+1\n",
    "    return True"
   ]
  },
  {
   "cell_type": "code",
   "execution_count": 2,
   "metadata": {},
   "outputs": [],
   "source": [
    "def N_reine(i,n,reine,solution):\n",
    "    a=[]\n",
    "    if (i==n):\n",
    "        for i in range(n):\n",
    "            for j in range(n):\n",
    "                if (reine[i][j]=='Q'):\n",
    "                    a.append((i,j))  #i c'est la colonne et j c'est la ligne\n",
    "        solution.append(set(a))\n",
    "    for j in range(n):\n",
    "        if(valide(i,j,n,reine)):\n",
    "            reine[i][j]='Q'\n",
    "            next_reine=N_reine(i+1,n,reine,solution)\n",
    "            reine[i][j]='-'\n",
    "    return solution"
   ]
  },
  {
   "cell_type": "code",
   "execution_count": 3,
   "metadata": {},
   "outputs": [],
   "source": [
    "#affichier les solutions: pour chaque ssolutions il afficher les couples(colonne,ligne)\n",
    "def solution_position():\n",
    "    window = tk.Tk()\n",
    "    window.title(\"Positions des reines\") \n",
    "    n = int(entry.get())\n",
    "    solution=[]\n",
    "    reine = [['-'] * n for i in range(n)]\n",
    "    l=N_reine(0,n,reine,solution)\n",
    "    text0='Nomber des solutions pour N egale:',n,'est',len(l)\n",
    "    tk.Label(window, text = text0, font=(\"Roboto\", 16),fg=\"#4CBDBA\").pack()\n",
    "    i=1\n",
    "    for x in l: #on parcouru la liste des solutions et afficher liste des positions apartie de liste\n",
    "        text=\"solution\",i,':',list(x)\n",
    "        i=i+1\n",
    "        tk.Label(window, text = text,font=(\"Roboto\", 10)).pack()\n",
    "    window.mainloop()\n"
   ]
  },
  {
   "cell_type": "code",
   "execution_count": 4,
   "metadata": {},
   "outputs": [],
   "source": [
    "import numpy as np\n",
    "import tkinter as tk\n",
    "#placer les reines sur l'echiquie et les afficher\n",
    "def Affiche_solutions():\n",
    "    n = int(entry.get())\n",
    "    window = tk.Tk() \n",
    "    window.title(\"Afficher les solutions\") \n",
    "    solution=[]\n",
    "    reine = [['-'] * n for i in range(n)]\n",
    "    s=N_reine(0,n,reine,solution)\n",
    "    j=0\n",
    "    #creer un echiquie et placer les reines puis l'afficher pour chaque solutions\n",
    "    for x in s:\n",
    "        j+=1\n",
    "        k =list(x)\n",
    "        echiquie=np.array([n,n])\n",
    "        echiquie=np.ones(echiquie)\n",
    "        echiquie=echiquie.astype(int)\n",
    "        echiquie=echiquie.astype(str)\n",
    "        for i in range(len(k)):\n",
    "            echiquie[k[i][0]][k[i][1]]='Q'\n",
    "            aff=str(echiquie)\n",
    "        text='solution :',j\n",
    "        tk.Label(window, text=text,font=(\"Roboto\", 16),fg=\"#4CBDBA\").pack()\n",
    "        lab =tk.Label(window, text=aff).pack() \n",
    "    window.mainloop()"
   ]
  },
  {
   "cell_type": "code",
   "execution_count": 5,
   "metadata": {},
   "outputs": [],
   "source": [
    "import tkinter as tk\n",
    "#interface graphique pour donner n reines avec des buttons l'une afficher les solutions dans l'echiquie \n",
    "#et l'autre affiche leurs positions\n",
    "win= tk.Tk()\n",
    "win.title(\"N_reines\") \n",
    "canvas = tk.Canvas(win, width = 400, height = 300,  relief = 'raised')\n",
    "canvas.pack()\n",
    "label2 = tk.Label(win, text='Donner le nombre de reine N:')\n",
    "label2.config(font=('Roboto', 10))\n",
    "canvas.create_window(200, 50, window=label2)\n",
    "\n",
    "entry = tk.Entry (win) \n",
    "canvas.create_window(200, 90, window=entry)  \n",
    "button= tk.Button(text='Liste des solutions', command=solution_position, bg='#54B4C5', fg='white', font=('Roboto', 9, 'bold'))\n",
    "canvas.create_window(200, 130, window=button)\n",
    "button1 = tk.Button(text='Afficher les solutions', command=Affiche_solutions, bg='#54838B', fg='white', font=('Roboto', 9, 'bold'))\n",
    "canvas.create_window(200, 170, window=button1)\n",
    "win.mainloop()"
   ]
  }
 ],
 "metadata": {
  "kernelspec": {
   "display_name": "Python 3",
   "language": "python",
   "name": "python3"
  },
  "language_info": {
   "codemirror_mode": {
    "name": "ipython",
    "version": 3
   },
   "file_extension": ".py",
   "mimetype": "text/x-python",
   "name": "python",
   "nbconvert_exporter": "python",
   "pygments_lexer": "ipython3",
   "version": "3.8.3"
  }
 },
 "nbformat": 4,
 "nbformat_minor": 4
}
